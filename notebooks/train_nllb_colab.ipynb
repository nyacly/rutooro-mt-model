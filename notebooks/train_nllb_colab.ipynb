{
 "cells": [
  {
   "cell_type": "markdown",
   "id": "77546182",
   "metadata": {},
   "source": [
    "# Fine-tune NLLB-200 on Rutooro\n",
    "This Colab notebook demonstrates how to fine-tune `facebook/nllb-200-distilled-600M` for English↔Rutooro translation."
   ]
  },
  {
   "cell_type": "code",
   "execution_count": null,
   "id": "42e799da",
   "metadata": {},
   "outputs": [],
   "source": [
    "!pip install -q transformers datasets evaluate sacrebleu gradio"
   ]
  },
  {
   "cell_type": "code",
   "execution_count": null,
   "id": "cbe7fcdd",
   "metadata": {},
   "outputs": [],
   "source": [
    "from datasets import load_dataset\n",
    "from transformers import AutoTokenizer, AutoModelForSeq2SeqLM, DataCollatorForSeq2Seq, Seq2SeqTrainer, Seq2SeqTrainingArguments\n",
    "from evaluate import load as load_metric"
   ]
  },
  {
   "cell_type": "code",
   "execution_count": null,
   "id": "25ba4438",
   "metadata": {},
   "outputs": [],
   "source": [
    "dataset = load_dataset(\"michsethowusu/english-tooro_sentence-pairs_mt560\")\n",
    "train_ds = dataset[\"train\"]"
   ]
  },
  {
   "cell_type": "code",
   "execution_count": null,
   "id": "1f915c51",
   "metadata": {},
   "outputs": [],
   "source": [
    "model_name = \"facebook/nllb-200-distilled-600M\"\n",
    "tokenizer = AutoTokenizer.from_pretrained(model_name)\n",
    "model = AutoModelForSeq2SeqLM.from_pretrained(model_name)\n",
    "\n",
    "tokenizer.src_lang = \"eng_Latn\"\n",
    "tokenizer.tgt_lang = \"ttj_Latn\""
   ]
  },
  {
   "cell_type": "code",
   "execution_count": null,
   "id": "26735798",
   "metadata": {},
   "outputs": [],
   "source": [
    "def preprocess(example):\n",
    "    inputs = example[\"english\"]\n",
    "    targets = example[\"rutooro\"]\n",
    "    model_inputs = tokenizer(inputs, truncation=True)\n",
    "    with tokenizer.as_target_tokenizer():\n",
    "        labels = tokenizer(targets, truncation=True)\n",
    "    model_inputs[\"labels\"] = labels[\"input_ids\"]\n",
    "    return model_inputs\n",
    "\n",
    "processed = train_ds.map(preprocess, batched=True)"
   ]
  },
  {
   "cell_type": "code",
   "execution_count": null,
   "id": "d36a53ae",
   "metadata": {},
   "outputs": [],
   "source": [
    "args = Seq2SeqTrainingArguments(\n",
    "    output_dir=\"./model\",\n",
    "    evaluation_strategy=\"epoch\",\n",
    "    learning_rate=2e-5,\n",
    "    per_device_train_batch_size=8,\n",
    "    per_device_eval_batch_size=8,\n",
    "    num_train_epochs=5,\n",
    "    save_total_limit=2,\n",
    "    predict_with_generate=True,\n",
    ")\n",
    "\n",
    "data_collator = DataCollatorForSeq2Seq(tokenizer, model=model)\n",
    "metric = load_metric(\"sacrebleu\")"
   ]
  },
  {
   "cell_type": "code",
   "execution_count": null,
   "id": "ffa5cbaa",
   "metadata": {},
   "outputs": [],
   "source": [
    "def compute_metrics(eval_preds):\n",
    "    preds, labels = eval_preds\n",
    "    if isinstance(preds, tuple):\n",
    "        preds = preds[0]\n",
    "    decoded_preds = tokenizer.batch_decode(preds, skip_special_tokens=True)\n",
    "    labels = [[(l if l != -100 else tokenizer.pad_token_id) for l in label] for label in labels]\n",
    "    decoded_labels = tokenizer.batch_decode(labels, skip_special_tokens=True)\n",
    "    bleu = metric.compute(predictions=decoded_preds, references=[[l] for l in decoded_labels])\n",
    "    return {\"bleu\": bleu[\"score\"]}\n",
    "\n",
    "trainer = Seq2SeqTrainer(model=model, args=args, train_dataset=processed, eval_dataset=processed, data_collator=data_collator, tokenizer=tokenizer, compute_metrics=compute_metrics)"
   ]
  },
  {
   "cell_type": "code",
   "execution_count": null,
   "id": "6812821b",
   "metadata": {},
   "outputs": [],
   "source": [
    "trainer.train()"
   ]
  },
  {
   "cell_type": "code",
   "execution_count": null,
   "id": "d6013937",
   "metadata": {},
   "outputs": [],
   "source": [
    "trainer.save_model(\"./model\")"
   ]
  },
  {
   "cell_type": "code",
   "execution_count": null,
   "id": "9d36b58b",
   "metadata": {},
   "outputs": [],
   "source": [
    "import gradio as gr\n",
    "from app.gradio_demo import translate\n",
    "\n",
    "iface = gr.Interface(fn=lambda txt: translate(txt, \"en-ttj\"), inputs=\"text\", outputs=\"text\")\n",
    "iface.launch()"
   ]
  }
 ],
 "metadata": {},
 "nbformat": 4,
 "nbformat_minor": 5
}
